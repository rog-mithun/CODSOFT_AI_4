{
 "cells": [
  {
   "cell_type": "code",
   "execution_count": 5,
   "id": "82a55c11",
   "metadata": {},
   "outputs": [
    {
     "name": "stdout",
     "output_type": "stream",
     "text": [
      "Sample of the MovieLens dataset:\n",
      "   movieId                               title  \\\n",
      "0        1                    Toy Story (1995)   \n",
      "1        2                      Jumanji (1995)   \n",
      "2        3             Grumpier Old Men (1995)   \n",
      "3        4            Waiting to Exhale (1995)   \n",
      "4        5  Father of the Bride Part II (1995)   \n",
      "\n",
      "                                        genres  \n",
      "0  Adventure|Animation|Children|Comedy|Fantasy  \n",
      "1                   Adventure|Children|Fantasy  \n",
      "2                               Comedy|Romance  \n",
      "3                         Comedy|Drama|Romance  \n",
      "4                                       Comedy  \n",
      "Enter your movie preferences (comma-separated genres): Comedy,Drama\n"
     ]
    },
    {
     "name": "stderr",
     "output_type": "stream",
     "text": [
      "C:\\Users\\mithu\\AppData\\Local\\Temp\\ipykernel_17464\\1163187882.py:45: FutureWarning: The default dtype for empty Series will be 'object' instead of 'float64' in a future version. Specify a dtype explicitly to silence this warning.\n",
      "  user_recommendations = pd.Series()\n",
      "C:\\Users\\mithu\\AppData\\Local\\Temp\\ipykernel_17464\\1163187882.py:47: FutureWarning: The series.append method is deprecated and will be removed from pandas in a future version. Use pandas.concat instead.\n",
      "  user_recommendations = user_recommendations.append(get_names_by_genre(preference))\n"
     ]
    },
    {
     "name": "stdout",
     "output_type": "stream",
     "text": [
      "Recommended Movie Indices:\n",
      "['Father of the Bride Part II (1995)' 'Four Rooms (1995)'\n",
      " 'Ace Ventura: When Nature Calls (1995)' 'Bio-Dome (1996)' 'Friday (1995)'\n",
      " 'Black Sheep (1996)' 'Mr. Wrong (1996)' 'Happy Gilmore (1996)'\n",
      " 'Steal Big, Steal Little (1995)' 'Flirting With Disaster (1996)']\n"
     ]
    },
    {
     "name": "stderr",
     "output_type": "stream",
     "text": [
      "C:\\Users\\mithu\\AppData\\Local\\Temp\\ipykernel_17464\\1163187882.py:47: FutureWarning: The series.append method is deprecated and will be removed from pandas in a future version. Use pandas.concat instead.\n",
      "  user_recommendations = user_recommendations.append(get_names_by_genre(preference))\n"
     ]
    }
   ],
   "source": [
    "import pandas as pd\n",
    "from sklearn.feature_extraction.text import TfidfVectorizer\n",
    "from sklearn.metrics.pairwise import linear_kernel\n",
    "\n",
    "# Load the MovieLens dataset \n",
    "movies_df = pd.read_csv('movies.csv')\n",
    "\n",
    "# Display the first few rows of the dataset\n",
    "print(\"Sample of the MovieLens dataset:\")\n",
    "print(movies_df.head())\n",
    "\n",
    "# Function to create a content-based recommendation system\n",
    "def content_based_recommendation(user_preferences, movies_df):\n",
    "    # Combine relevant features into a single column\n",
    "    movies_df['Features'] = movies_df['genres']\n",
    "\n",
    "    # Create a TF-IDF vectorizer\n",
    "    tfidf_vectorizer = TfidfVectorizer(stop_words='english')\n",
    "    tfidf_matrix = tfidf_vectorizer.fit_transform(movies_df['Features'])\n",
    "\n",
    "    # Calculate the cosine similarity between movies\n",
    "    cosine_sim = linear_kernel(tfidf_matrix, tfidf_matrix)\n",
    "\n",
    "    # Get indices of movies\n",
    "    indices = pd.Series(movies_df.index, index=movies_df['title'])\n",
    "    genre_indices = pd.Series(movies_df.index, index=movies_df['genres'])\n",
    "\n",
    "    # Function to get movie names based on a given genre\n",
    "    def get_names_by_genre(genre):\n",
    "        try:\n",
    "            idx = genre_indices[genre]\n",
    "            sim_scores = sorted(list(enumerate(cosine_sim[idx].flatten())), key=lambda x: x[1], reverse=True)\n",
    "        \n",
    "            # Filter out invalid indices\n",
    "            valid_indices = [i[0] for i in sim_scores if i[0] < len(movies_df)]\n",
    "        \n",
    "            movie_names = movies_df['title'].iloc[valid_indices]\n",
    "            return movie_names\n",
    "        except KeyError:\n",
    "            print(f\"No movies found for the genre '{genre}'.\")\n",
    "            return pd.Series()\n",
    "\n",
    "\n",
    "    # Get movie names based on user preferences\n",
    "    user_recommendations = pd.Series()\n",
    "    for preference in user_preferences:\n",
    "        user_recommendations = user_recommendations.append(get_names_by_genre(preference))\n",
    "\n",
    "    return user_recommendations.unique()\n",
    "\n",
    "# Get user preferences dynamically\n",
    "user_preferences = input(\"Enter your movie preferences (comma-separated genres): \").split(',')\n",
    "\n",
    "# Get content-based recommendations for the user\n",
    "recommendations = content_based_recommendation(user_preferences, movies_df)\n",
    "\n",
    "# Display a subset of recommendations\n",
    "if len(recommendations) > 10:\n",
    "    print(\"Recommended Movie Indices:\")\n",
    "    print(recommendations[:10])\n",
    "else:\n",
    "    print(\"Recommended Movie Indices:\")\n",
    "    print(recommendations)\n",
    "        \n"
   ]
  },
  {
   "cell_type": "code",
   "execution_count": null,
   "id": "768d2274",
   "metadata": {},
   "outputs": [],
   "source": []
  }
 ],
 "metadata": {
  "kernelspec": {
   "display_name": "Python 3 (ipykernel)",
   "language": "python",
   "name": "python3"
  },
  "language_info": {
   "codemirror_mode": {
    "name": "ipython",
    "version": 3
   },
   "file_extension": ".py",
   "mimetype": "text/x-python",
   "name": "python",
   "nbconvert_exporter": "python",
   "pygments_lexer": "ipython3",
   "version": "3.11.3"
  }
 },
 "nbformat": 4,
 "nbformat_minor": 5
}
